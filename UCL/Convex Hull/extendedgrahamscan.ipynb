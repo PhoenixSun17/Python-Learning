{
 "cells": [
  {
   "cell_type": "markdown",
   "metadata": {},
   "source": [
    "# Extended Graham scan algorithm"
   ]
  },
  {
   "cell_type": "markdown",
   "metadata": {},
   "source": [
    "Use the cell below for all python code needed to realise the extended Graham scan algorithm (including any auxiliary data structures and functions you might need). The `extendedgrahamscan()` function itself should take as input parameter a list of 2D points (`inputSet`), and return the subset of such points that lie on the convex hull (`outputSet`)."
   ]
  },
  {
   "cell_type": "code",
   "execution_count": null,
   "metadata": {},
   "outputs": [],
   "source": [
    "from matplotlib import pyplot as plt\n",
    "from math import atan2\n",
    "import time\n",
    "\n",
    "\n",
    "def scatter_plot(coords,convex_hull=None):\n",
    "   xs,ys=zip(*coords) # unzip into x and y coord lists\n",
    "   plt.scatter(xs,ys) # plot the data points\n",
    "\n",
    "   if convex_hull!=None:\n",
    "      # plot the convex hull boundary, extra iteration at\n",
    "      # the end so that the bounding line wraps around\n",
    "      for i in range(1,len(convex_hull)+1):\n",
    "         if i==len(convex_hull): i=0 # wrap\n",
    "         c0=convex_hull[i-1]\n",
    "         c1=convex_hull[i]\n",
    "         plt.plot((c0[0],c1[0]),(c0[1],c1[1]),'r')\n",
    "   plt.show()\n",
    "\n",
    "\n",
    "def get_region(points):\n",
    "    min_y = 0\n",
    "    min_x = 0\n",
    "    max_y = 0\n",
    "    max_x = 0\n",
    "\n",
    "    n = len(points)\n",
    "    for i in range(0, n):\n",
    "        if points[i][1] < points[min_y][1]:\n",
    "            min_y = i\n",
    "        if points[i][0] < points[min_x][0]:\n",
    "            min_x = i\n",
    "        if points[i][1] > points[max_y][1]:\n",
    "            max_y = i\n",
    "        if points[i][0] > points[max_x][0]:\n",
    "            max_x = i\n",
    "\n",
    "    a = points[max_y]  # top\n",
    "    b = points[min_x]  # left\n",
    "    c = points[min_y]  # bottom\n",
    "    d = points[max_x]  # right\n",
    "\n",
    "    print(a, b, c, d)\n",
    "\n",
    "    region_1 = [a, b, d]\n",
    "    region_2 = [b, c, d]\n",
    "\n",
    "    for p in points:\n",
    "        if p[0] < a[0] and p[1] > b[1] and det2(b, a, p) >= 0 or p[0] > a[0] and p[1] > d[1] and det2(a, d, p) >= 0:\n",
    "            region_1.append(p)\n",
    "        if p[0] < c[0] and p[1] < b[1] and det2(b, c, p) <= 0 or p[0] > c[0] and p[1] < d[1] and det2(c, d, p) <= 0:\n",
    "            region_2.append(p)\n",
    "\n",
    "\n",
    "    #print(\"region1 and 2\",[region_1, region_2])\n",
    "\n",
    "    region_1_sorted = sorted(region_1, key=lambda x: x[0])\n",
    "    region_2_sorted = sorted(region_2, key=lambda x: -x[0])\n",
    "\n",
    "    return ([region_1_sorted, region_2_sorted])\n",
    "\n",
    "import matplotlib.pyplot as plt\n",
    "\n",
    "def det2(p1,p2,p3):\n",
    "   return (p2[0] - p1[0]) * (p3[1] - p1[1]) \\\n",
    "          - (p2[1] - p1[1]) * (p3[0] - p1[0])\n",
    "\n",
    "\n",
    "def det(p1, p2, p3):\n",
    "    S = ((p2[1] - p1[1]) * (p3[0] - p2[0])) + ((p1[0] - p2[0]) * (p3[1] - p2[1]))\n",
    "    return S\n",
    "\n",
    "\n",
    "def extendedgrahamscan(inputSet):\n",
    "    sorted_points = get_region(inputSet)\n",
    "\n",
    "    #scatter_plot(inputSet, sorted_points)\n",
    "    outputSet_1 = []\n",
    "    outputSet_1.append(sorted_points[0].pop(0))\n",
    "    outputSet_1.append(sorted_points[0][0])\n",
    "    for point in sorted_points[0][1:]:\n",
    "        while det(outputSet_1[-2], outputSet_1[-1], point) < 0:\n",
    "            if len(outputSet_1) >2:\n",
    "               outputSet_1.pop()\n",
    "        outputSet_1.append(point)\n",
    "\n",
    "    outputSet_2 = []\n",
    "    outputSet_2.append(sorted_points[1].pop(0))\n",
    "    outputSet_2.append(sorted_points[1][0])\n",
    "    for point in sorted_points[1][1:]:\n",
    "        while det(outputSet_2[-2], outputSet_2[-1],point) < 0:\n",
    "            if len(outputSet_2) > 2:\n",
    "               outputSet_2.pop()\n",
    "        outputSet_2.append(point)\n",
    "\n",
    "    hull = outputSet_1 + outputSet_2\n",
    "    #list(set(outputSet_1 + outputSet_2))\n",
    "    return hull"
   ]
  },
  {
   "cell_type": "markdown",
   "metadata": {},
   "source": [
    "Use the cell below for all python code needed to generate test data points (both random and those representing worst-case scenario)."
   ]
  },
  {
   "cell_type": "code",
   "execution_count": 1,
   "metadata": {},
   "outputs": [],
   "source": [
    "from random import randint\n",
    "\n",
    "#code for random data generation\n",
    "def create_points(ct,min=0,max=10000):\n",
    "   return [[randint(min,max),randint(min,max)] \\\n",
    "         for _ in range(ct)]\n",
    "\n",
    "\n",
    "\n",
    "#code for worst case data generation\n",
    "\n"
   ]
  },
  {
   "cell_type": "markdown",
   "metadata": {},
   "source": [
    "Use the cell below for all python code needed to test the `extendedgrahamscan()` function on the data generated above."
   ]
  },
  {
   "cell_type": "code",
   "execution_count": 2,
   "metadata": {},
   "outputs": [],
   "source": [
    "import timeit\n",
    "\n",
    "#test code\n",
    "\n"
   ]
  },
  {
   "cell_type": "markdown",
   "metadata": {},
   "source": [
    "*Optional*: Feel free to use the code below on small datasets (e.g., N = 10) to visually inspect whether the algorithm has been implemented correctly. The fragment below assumes both `inputSet` and `outputSet` to be lists of 2D points, with each point being a list of 2 elements (e.g., `[[x1,y1], [x2,y2], ..., [x_k,y_k]]`)"
   ]
  },
  {
   "cell_type": "code",
   "execution_count": 3,
   "metadata": {},
   "outputs": [
    {
     "ename": "NameError",
     "evalue": "name 'extendedgrahamscan' is not defined",
     "output_type": "error",
     "traceback": [
      "\u001b[1;31m---------------------------------------------------------------------------\u001b[0m",
      "\u001b[1;31mNameError\u001b[0m                                 Traceback (most recent call last)",
      "\u001b[1;32m<ipython-input-3-37564324dab2>\u001b[0m in \u001b[0;36m<module>\u001b[1;34m\u001b[0m\n\u001b[0;32m      2\u001b[0m \u001b[1;31m#print(\"sorted list\",get_region(inputSet))\u001b[0m\u001b[1;33m\u001b[0m\u001b[1;33m\u001b[0m\u001b[1;33m\u001b[0m\u001b[0m\n\u001b[0;32m      3\u001b[0m \u001b[0minputSet\u001b[0m \u001b[1;33m=\u001b[0m \u001b[0mcreate_points\u001b[0m\u001b[1;33m(\u001b[0m\u001b[1;36m2000\u001b[0m\u001b[1;33m)\u001b[0m\u001b[1;33m\u001b[0m\u001b[1;33m\u001b[0m\u001b[0m\n\u001b[1;32m----> 4\u001b[1;33m \u001b[0moutputSet\u001b[0m \u001b[1;33m=\u001b[0m \u001b[0mextendedgrahamscan\u001b[0m\u001b[1;33m(\u001b[0m\u001b[0minputSet\u001b[0m\u001b[1;33m)\u001b[0m\u001b[1;33m\u001b[0m\u001b[1;33m\u001b[0m\u001b[0m\n\u001b[0m\u001b[0;32m      5\u001b[0m \u001b[1;33m\u001b[0m\u001b[0m\n\u001b[0;32m      6\u001b[0m \u001b[1;33m\u001b[0m\u001b[0m\n",
      "\u001b[1;31mNameError\u001b[0m: name 'extendedgrahamscan' is not defined"
     ]
    }
   ],
   "source": [
    "\n",
    "#inputSet = [[1.5,2], [2,2] , [3, 3], [4,4], [1,4], [3,1], [1.5, 4.5], [2, 4], [3, 5], [3.5,1.5],[3.5,5], [5,3], [1.4,6], [3,2]]\n",
    "#print(\"sorted list\",get_region(inputSet))\n",
    "inputSet = create_points(2000)\n",
    "outputSet = extendedgrahamscan(inputSet)\n",
    "\n",
    "\n",
    "plt.figure()\n",
    "\n",
    "#first do a scatter plot of the inputSet\n",
    "input_xs, input_ys = zip(*inputSet)\n",
    "plt.scatter(input_xs, input_ys)\n",
    "\n",
    "#then do a polygon plot of the computed covex hull\n",
    "outputSet.append(outputSet[0]) #first create a 'closed loop' by adding the first point at the end of the list\n",
    "output_xs, output_ys = zip(*outputSet)\n",
    "plt.plot(output_xs, output_ys)\n",
    "\n",
    "plt.show()\n",
    "\n"
   ]
  },
  {
   "cell_type": "code",
   "execution_count": null,
   "metadata": {},
   "outputs": [],
   "source": []
  }
 ],
 "metadata": {
  "kernelspec": {
   "display_name": "Python 3",
   "language": "python",
   "name": "python3"
  },
  "language_info": {
   "codemirror_mode": {
    "name": "ipython",
    "version": 3
   },
   "file_extension": ".py",
   "mimetype": "text/x-python",
   "name": "python",
   "nbconvert_exporter": "python",
   "pygments_lexer": "ipython3",
   "version": "3.8.6"
  }
 },
 "nbformat": 4,
 "nbformat_minor": 4
}
